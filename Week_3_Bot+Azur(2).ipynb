{
  "nbformat": 4,
  "nbformat_minor": 0,
  "metadata": {
    "colab": {
      "provenance": [],
      "history_visible": true
    },
    "kernelspec": {
      "name": "python3",
      "display_name": "Python 3"
    },
    "language_info": {
      "name": "python"
    }
  },
  "cells": [
    {
      "cell_type": "code",
      "execution_count": null,
      "metadata": {
        "colab": {
          "base_uri": "https://localhost:8080/"
        },
        "id": "nMISLimOJG0q",
        "outputId": "c8254c47-7bd7-447e-cdde-05ea920b2eab"
      },
      "outputs": [
        {
          "output_type": "stream",
          "name": "stdout",
          "text": [
            "Cloning into 'Week3'...\n",
            "remote: Enumerating objects: 3, done.\u001b[K\n",
            "remote: Counting objects: 100% (3/3), done.\u001b[K\n",
            "remote: Total 3 (delta 0), reused 0 (delta 0), pack-reused 0\u001b[K\n",
            "Receiving objects: 100% (3/3), done.\n"
          ]
        }
      ],
      "source": [
        "!git clone https://github.com/Sallyshahin/Week3.git"
      ]
    },
    {
      "cell_type": "code",
      "source": [
        "!python -m venv env\n",
        "!source env/bin/activate  # On Windows, use `env\\Scripts\\activate`"
      ],
      "metadata": {
        "colab": {
          "base_uri": "https://localhost:8080/"
        },
        "id": "MuIEUe3jNpqF",
        "outputId": "42617cfd-51fc-4a11-c42b-652e33cfb98b"
      },
      "execution_count": null,
      "outputs": [
        {
          "output_type": "stream",
          "name": "stdout",
          "text": [
            "The virtual environment was not created successfully because ensurepip is not\n",
            "available.  On Debian/Ubuntu systems, you need to install the python3-venv\n",
            "package using the following command.\n",
            "\n",
            "    apt install python3.10-venv\n",
            "\n",
            "You may need to use sudo with that command.  After installing the python3-venv\n",
            "package, recreate your virtual environment.\n",
            "\n",
            "Failing command: /content/env/bin/python3\n",
            "\n",
            "/bin/bash: line 1: env/bin/activate: No such file or directory\n"
          ]
        }
      ]
    },
    {
      "cell_type": "code",
      "source": [
        "pip install botbuilder-core botbuilder-ai azure-ai-textanalytics\n"
      ],
      "metadata": {
        "colab": {
          "base_uri": "https://localhost:8080/"
        },
        "id": "6UdR3XukPCGE",
        "outputId": "cc006a00-0974-4f74-bf4a-02dbae6f60f4"
      },
      "execution_count": null,
      "outputs": [
        {
          "output_type": "stream",
          "name": "stdout",
          "text": [
            "Requirement already satisfied: botbuilder-core in /usr/local/lib/python3.10/dist-packages (4.15.0)\n",
            "Requirement already satisfied: botbuilder-ai in /usr/local/lib/python3.10/dist-packages (4.15.0)\n",
            "Requirement already satisfied: azure-ai-textanalytics in /usr/local/lib/python3.10/dist-packages (5.3.0)\n",
            "Requirement already satisfied: botbuilder-schema==4.15.0 in /usr/local/lib/python3.10/dist-packages (from botbuilder-core) (4.15.0)\n",
            "Requirement already satisfied: botframework-connector==4.15.0 in /usr/local/lib/python3.10/dist-packages (from botbuilder-core) (4.15.0)\n",
            "Requirement already satisfied: botframework-streaming==4.15.0 in /usr/local/lib/python3.10/dist-packages (from botbuilder-core) (4.15.0)\n",
            "Requirement already satisfied: jsonpickle<1.5,>=1.2 in /usr/local/lib/python3.10/dist-packages (from botbuilder-core) (1.4.2)\n",
            "Requirement already satisfied: msrest==0.7.* in /usr/local/lib/python3.10/dist-packages (from botbuilder-schema==4.15.0->botbuilder-core) (0.7.1)\n",
            "Requirement already satisfied: urllib3<2.0.0 in /usr/local/lib/python3.10/dist-packages (from botbuilder-schema==4.15.0->botbuilder-core) (1.26.18)\n",
            "Requirement already satisfied: PyJWT>=2.4.0 in /usr/local/lib/python3.10/dist-packages (from botframework-connector==4.15.0->botbuilder-core) (2.8.0)\n",
            "Requirement already satisfied: msal==1.* in /usr/local/lib/python3.10/dist-packages (from botframework-connector==4.15.0->botbuilder-core) (1.28.0)\n",
            "Requirement already satisfied: requests<3,>=2.0.0 in /usr/local/lib/python3.10/dist-packages (from msal==1.*->botframework-connector==4.15.0->botbuilder-core) (2.31.0)\n",
            "Requirement already satisfied: cryptography<45,>=0.6 in /usr/local/lib/python3.10/dist-packages (from msal==1.*->botframework-connector==4.15.0->botbuilder-core) (42.0.7)\n",
            "Requirement already satisfied: azure-core>=1.24.0 in /usr/local/lib/python3.10/dist-packages (from msrest==0.7.*->botbuilder-schema==4.15.0->botbuilder-core) (1.30.1)\n",
            "Requirement already satisfied: certifi>=2017.4.17 in /usr/local/lib/python3.10/dist-packages (from msrest==0.7.*->botbuilder-schema==4.15.0->botbuilder-core) (2024.2.2)\n",
            "Requirement already satisfied: isodate>=0.6.0 in /usr/local/lib/python3.10/dist-packages (from msrest==0.7.*->botbuilder-schema==4.15.0->botbuilder-core) (0.6.1)\n",
            "Requirement already satisfied: requests-oauthlib>=0.5.0 in /usr/local/lib/python3.10/dist-packages (from msrest==0.7.*->botbuilder-schema==4.15.0->botbuilder-core) (1.3.1)\n",
            "Requirement already satisfied: azure-cognitiveservices-language-luis==0.2.0 in /usr/local/lib/python3.10/dist-packages (from botbuilder-ai) (0.2.0)\n",
            "Requirement already satisfied: aiohttp==3.9.3 in /usr/local/lib/python3.10/dist-packages (from botbuilder-ai) (3.9.3)\n",
            "Requirement already satisfied: aiounittest>=1.1.0 in /usr/local/lib/python3.10/dist-packages (from botbuilder-ai) (1.4.2)\n",
            "Requirement already satisfied: aiosignal>=1.1.2 in /usr/local/lib/python3.10/dist-packages (from aiohttp==3.9.3->botbuilder-ai) (1.3.1)\n",
            "Requirement already satisfied: attrs>=17.3.0 in /usr/local/lib/python3.10/dist-packages (from aiohttp==3.9.3->botbuilder-ai) (23.2.0)\n",
            "Requirement already satisfied: frozenlist>=1.1.1 in /usr/local/lib/python3.10/dist-packages (from aiohttp==3.9.3->botbuilder-ai) (1.4.1)\n",
            "Requirement already satisfied: multidict<7.0,>=4.5 in /usr/local/lib/python3.10/dist-packages (from aiohttp==3.9.3->botbuilder-ai) (6.0.5)\n",
            "Requirement already satisfied: yarl<2.0,>=1.0 in /usr/local/lib/python3.10/dist-packages (from aiohttp==3.9.3->botbuilder-ai) (1.9.4)\n",
            "Requirement already satisfied: async-timeout<5.0,>=4.0 in /usr/local/lib/python3.10/dist-packages (from aiohttp==3.9.3->botbuilder-ai) (4.0.3)\n",
            "Requirement already satisfied: msrestazure<2.0.0,>=0.4.32 in /usr/local/lib/python3.10/dist-packages (from azure-cognitiveservices-language-luis==0.2.0->botbuilder-ai) (0.6.4.post1)\n",
            "Requirement already satisfied: azure-common~=1.1 in /usr/local/lib/python3.10/dist-packages (from azure-cognitiveservices-language-luis==0.2.0->botbuilder-ai) (1.1.28)\n",
            "Requirement already satisfied: typing-extensions>=4.0.1 in /usr/local/lib/python3.10/dist-packages (from azure-ai-textanalytics) (4.11.0)\n",
            "Requirement already satisfied: wrapt in /usr/local/lib/python3.10/dist-packages (from aiounittest>=1.1.0->botbuilder-ai) (1.14.1)\n",
            "Requirement already satisfied: six>=1.11.0 in /usr/local/lib/python3.10/dist-packages (from azure-core>=1.24.0->msrest==0.7.*->botbuilder-schema==4.15.0->botbuilder-core) (1.16.0)\n",
            "Requirement already satisfied: adal<2.0.0,>=0.6.0 in /usr/local/lib/python3.10/dist-packages (from msrestazure<2.0.0,>=0.4.32->azure-cognitiveservices-language-luis==0.2.0->botbuilder-ai) (1.2.7)\n",
            "Requirement already satisfied: charset-normalizer<4,>=2 in /usr/local/lib/python3.10/dist-packages (from requests<3,>=2.0.0->msal==1.*->botframework-connector==4.15.0->botbuilder-core) (3.3.2)\n",
            "Requirement already satisfied: idna<4,>=2.5 in /usr/local/lib/python3.10/dist-packages (from requests<3,>=2.0.0->msal==1.*->botframework-connector==4.15.0->botbuilder-core) (3.7)\n",
            "Requirement already satisfied: python-dateutil<3,>=2.1.0 in /usr/local/lib/python3.10/dist-packages (from adal<2.0.0,>=0.6.0->msrestazure<2.0.0,>=0.4.32->azure-cognitiveservices-language-luis==0.2.0->botbuilder-ai) (2.8.2)\n",
            "Requirement already satisfied: cffi>=1.12 in /usr/local/lib/python3.10/dist-packages (from cryptography<45,>=0.6->msal==1.*->botframework-connector==4.15.0->botbuilder-core) (1.16.0)\n",
            "Requirement already satisfied: oauthlib>=3.0.0 in /usr/local/lib/python3.10/dist-packages (from requests-oauthlib>=0.5.0->msrest==0.7.*->botbuilder-schema==4.15.0->botbuilder-core) (3.2.2)\n",
            "Requirement already satisfied: pycparser in /usr/local/lib/python3.10/dist-packages (from cffi>=1.12->cryptography<45,>=0.6->msal==1.*->botframework-connector==4.15.0->botbuilder-core) (2.22)\n"
          ]
        }
      ]
    },
    {
      "cell_type": "code",
      "source": [
        "# README.md\n",
        "## Source: https://t8languageservice1.cognitiveservices.azure.com/"
      ],
      "metadata": {
        "id": "lwtntNoVPP7y"
      },
      "execution_count": null,
      "outputs": []
    },
    {
      "cell_type": "code",
      "source": [
        "import os\n",
        "\n",
        "class DefaultConfig:\n",
        "    \"\"\" Bot Configuration \"\"\"\n",
        "    # Other existing configurations\n",
        "# Added for sentiment analysis\n",
        "API_KEY = os.environ.get(\"2dd7bb8712654787b695ccacc92274dc\")\n",
        "ENDPOINT_URI = os.environ.get(\"MicrosoftAIServiceEndpoint\")"
      ],
      "metadata": {
        "id": "sjEI1T1GRO0V"
      },
      "execution_count": null,
      "outputs": []
    },
    {
      "cell_type": "code",
      "source": [
        "%env MicrosoftAIServiceEndpoint=https://t8languageservice1.cognitiveservices.azure.com/\n",
        "%env MicrosoftAPIKey=https://t8languageservice1.cognitiveservices.azure.com/"
      ],
      "metadata": {
        "colab": {
          "base_uri": "https://localhost:8080/"
        },
        "id": "EyKw_VQNRSlE",
        "outputId": "35d384e3-aff3-4aa1-8104-a677994d2d2a"
      },
      "execution_count": null,
      "outputs": [
        {
          "output_type": "stream",
          "name": "stdout",
          "text": [
            "env: MicrosoftAIServiceEndpoint=https://t8languageservice1.cognitiveservices.azure.com/\n",
            "env: MicrosoftAPIKey=https://t8languageservice1.cognitiveservices.azure.com/\n"
          ]
        }
      ]
    },
    {
      "cell_type": "code",
      "source": [
        "%env MicrosoftAIServiceEndpoint=https://t6languageservice.cognitiveservices.azure.com/\n",
        "%env MicrosoftAPIKey=2dd7bb8712654787b695ccacc92274dc"
      ],
      "metadata": {
        "id": "6xOlKSM-Rc4G",
        "colab": {
          "base_uri": "https://localhost:8080/"
        },
        "outputId": "21009fe9-eab3-43b5-dccb-44a18d0a7f9f"
      },
      "execution_count": null,
      "outputs": [
        {
          "output_type": "stream",
          "name": "stdout",
          "text": [
            "env: MicrosoftAIServiceEndpoint=https://t6languageservice.cognitiveservices.azure.com/\n",
            "env: MicrosoftAPIKey=2dd7bb8712654787b695ccacc92274dc\n"
          ]
        }
      ]
    },
    {
      "cell_type": "code",
      "source": [
        "from azure.ai.textanalytics import TextAnalyticsClient\n",
        "from azure.core.credentials import AzureKeyCredential\n",
        "\n",
        "def authenticate_client():\n",
        "    ta_credential = AzureKeyCredential(key=\"2dd7bb8712654787b695ccacc92274dc\")\n",
        "    text_analytics_client = TextAnalyticsClient(\n",
        "        endpoint=\"https://t8languageservice1.cognitiveservices.azure.com/\",\n",
        "        credential=ta_credential,\n",
        "    )\n",
        "    return text_analytics_client\n",
        "    ta_credential = AzureKeyCredential(DefaultConfig.API_KEY)\n",
        "    text_analytics_client = TextAnalyticsClient(\n",
        "        endpoint=DefaultConfig.ENDPOINT_URI,\n",
        "        credential=ta_credential\n",
        "    )\n",
        "    return text_analytics_client\n",
        "\n",
        "client = authenticate_client()\n"
      ],
      "metadata": {
        "id": "0A471bs9Rsj3"
      },
      "execution_count": 7,
      "outputs": []
    },
    {
      "cell_type": "code",
      "source": [
        "from botbuilder.core import TurnContext\n",
        "\n",
        "async def on_message_activity(self, turn_context: TurnContext):\n",
        "    # Echo the user's message\n",
        "    await turn_context.send_activity(f\"You said: {turn_context.activity.text}\")\n",
        "\n",
        "    # Perform sentiment analysis\n",
        "    documents = [turn_context.activity.text]\n",
        "    response = client.analyze_sentiment(documents=documents)[0]\n",
        "    sentiment = response.sentiment\n",
        "    await turn_context.send_activity(f\"Sentiment: {sentiment}\")\n"
      ],
      "metadata": {
        "id": "KPgjeRX0RvP6"
      },
      "execution_count": null,
      "outputs": []
    },
    {
      "cell_type": "code",
      "source": [
        "pip install azure-ai-textanalytics"
      ],
      "metadata": {
        "id": "ozqCWZKuRwn8",
        "colab": {
          "base_uri": "https://localhost:8080/"
        },
        "outputId": "16226e25-f8bf-4edd-f9c5-ae11043dd1b5"
      },
      "execution_count": 2,
      "outputs": [
        {
          "output_type": "stream",
          "name": "stdout",
          "text": [
            "Requirement already satisfied: azure-ai-textanalytics in /usr/local/lib/python3.10/dist-packages (5.3.0)\n",
            "Requirement already satisfied: azure-core<2.0.0,>=1.24.0 in /usr/local/lib/python3.10/dist-packages (from azure-ai-textanalytics) (1.30.1)\n",
            "Requirement already satisfied: azure-common~=1.1 in /usr/local/lib/python3.10/dist-packages (from azure-ai-textanalytics) (1.1.28)\n",
            "Requirement already satisfied: isodate<1.0.0,>=0.6.1 in /usr/local/lib/python3.10/dist-packages (from azure-ai-textanalytics) (0.6.1)\n",
            "Requirement already satisfied: typing-extensions>=4.0.1 in /usr/local/lib/python3.10/dist-packages (from azure-ai-textanalytics) (4.11.0)\n",
            "Requirement already satisfied: requests>=2.21.0 in /usr/local/lib/python3.10/dist-packages (from azure-core<2.0.0,>=1.24.0->azure-ai-textanalytics) (2.31.0)\n",
            "Requirement already satisfied: six>=1.11.0 in /usr/local/lib/python3.10/dist-packages (from azure-core<2.0.0,>=1.24.0->azure-ai-textanalytics) (1.16.0)\n",
            "Requirement already satisfied: charset-normalizer<4,>=2 in /usr/local/lib/python3.10/dist-packages (from requests>=2.21.0->azure-core<2.0.0,>=1.24.0->azure-ai-textanalytics) (3.3.2)\n",
            "Requirement already satisfied: idna<4,>=2.5 in /usr/local/lib/python3.10/dist-packages (from requests>=2.21.0->azure-core<2.0.0,>=1.24.0->azure-ai-textanalytics) (3.7)\n",
            "Requirement already satisfied: urllib3<3,>=1.21.1 in /usr/local/lib/python3.10/dist-packages (from requests>=2.21.0->azure-core<2.0.0,>=1.24.0->azure-ai-textanalytics) (2.0.7)\n",
            "Requirement already satisfied: certifi>=2017.4.17 in /usr/local/lib/python3.10/dist-packages (from requests>=2.21.0->azure-core<2.0.0,>=1.24.0->azure-ai-textanalytics) (2024.2.2)\n"
          ]
        }
      ]
    },
    {
      "cell_type": "code",
      "source": [
        "pip install azure-ai-textanalytics"
      ],
      "metadata": {
        "colab": {
          "base_uri": "https://localhost:8080/"
        },
        "id": "Bi62oc1tpmJ3",
        "outputId": "163f86d2-e205-4c66-e5c2-29b443f5ec39"
      },
      "execution_count": 8,
      "outputs": [
        {
          "output_type": "stream",
          "name": "stdout",
          "text": [
            "Requirement already satisfied: azure-ai-textanalytics in /usr/local/lib/python3.10/dist-packages (5.3.0)\n",
            "Requirement already satisfied: azure-core<2.0.0,>=1.24.0 in /usr/local/lib/python3.10/dist-packages (from azure-ai-textanalytics) (1.30.1)\n",
            "Requirement already satisfied: azure-common~=1.1 in /usr/local/lib/python3.10/dist-packages (from azure-ai-textanalytics) (1.1.28)\n",
            "Requirement already satisfied: isodate<1.0.0,>=0.6.1 in /usr/local/lib/python3.10/dist-packages (from azure-ai-textanalytics) (0.6.1)\n",
            "Requirement already satisfied: typing-extensions>=4.0.1 in /usr/local/lib/python3.10/dist-packages (from azure-ai-textanalytics) (4.11.0)\n",
            "Requirement already satisfied: requests>=2.21.0 in /usr/local/lib/python3.10/dist-packages (from azure-core<2.0.0,>=1.24.0->azure-ai-textanalytics) (2.31.0)\n",
            "Requirement already satisfied: six>=1.11.0 in /usr/local/lib/python3.10/dist-packages (from azure-core<2.0.0,>=1.24.0->azure-ai-textanalytics) (1.16.0)\n",
            "Requirement already satisfied: charset-normalizer<4,>=2 in /usr/local/lib/python3.10/dist-packages (from requests>=2.21.0->azure-core<2.0.0,>=1.24.0->azure-ai-textanalytics) (3.3.2)\n",
            "Requirement already satisfied: idna<4,>=2.5 in /usr/local/lib/python3.10/dist-packages (from requests>=2.21.0->azure-core<2.0.0,>=1.24.0->azure-ai-textanalytics) (3.7)\n",
            "Requirement already satisfied: urllib3<3,>=1.21.1 in /usr/local/lib/python3.10/dist-packages (from requests>=2.21.0->azure-core<2.0.0,>=1.24.0->azure-ai-textanalytics) (2.0.7)\n",
            "Requirement already satisfied: certifi>=2017.4.17 in /usr/local/lib/python3.10/dist-packages (from requests>=2.21.0->azure-core<2.0.0,>=1.24.0->azure-ai-textanalytics) (2024.2.2)\n"
          ]
        }
      ]
    },
    {
      "cell_type": "code",
      "source": [
        "import os\n",
        "print(os.environ['HOME'])"
      ],
      "metadata": {
        "colab": {
          "base_uri": "https://localhost:8080/"
        },
        "collapsed": true,
        "id": "hnirR3oIsPxD",
        "outputId": "4463ffee-9dd4-440d-ff4f-fdc082c453ef"
      },
      "execution_count": 20,
      "outputs": [
        {
          "output_type": "stream",
          "name": "stdout",
          "text": [
            "/root\n"
          ]
        }
      ]
    },
    {
      "cell_type": "code",
      "source": [
        "print(os.environ)"
      ],
      "metadata": {
        "colab": {
          "base_uri": "https://localhost:8080/"
        },
        "id": "DqU7SQ7ls7GZ",
        "outputId": "23ffdbf0-4d1f-4f2f-938d-5b96329d6fc2"
      },
      "execution_count": 21,
      "outputs": [
        {
          "output_type": "stream",
          "name": "stdout",
          "text": [
            "environ({'SHELL': '/bin/bash', 'NV_LIBCUBLAS_VERSION': '12.2.5.6-1', 'NVIDIA_VISIBLE_DEVICES': 'all', 'COLAB_JUPYTER_TRANSPORT': 'ipc', 'NV_NVML_DEV_VERSION': '12.2.140-1', 'NV_CUDNN_PACKAGE_NAME': 'libcudnn8', 'CGROUP_MEMORY_EVENTS': '/sys/fs/cgroup/memory.events /var/colab/cgroup/jupyter-children/memory.events', 'NV_LIBNCCL_DEV_PACKAGE': 'libnccl-dev=2.19.3-1+cuda12.2', 'NV_LIBNCCL_DEV_PACKAGE_VERSION': '2.19.3-1', 'VM_GCE_METADATA_HOST': '169.254.169.253', 'HOSTNAME': '8abede7e910b', 'LANGUAGE': 'en_US', 'TBE_RUNTIME_ADDR': '172.28.0.1:8011', 'COLAB_TPU_1VM': '', 'GCE_METADATA_TIMEOUT': '3', 'NVIDIA_REQUIRE_CUDA': 'cuda>=12.2 brand=tesla,driver>=470,driver<471 brand=unknown,driver>=470,driver<471 brand=nvidia,driver>=470,driver<471 brand=nvidiartx,driver>=470,driver<471 brand=geforce,driver>=470,driver<471 brand=geforcertx,driver>=470,driver<471 brand=quadro,driver>=470,driver<471 brand=quadrortx,driver>=470,driver<471 brand=titan,driver>=470,driver<471 brand=titanrtx,driver>=470,driver<471 brand=tesla,driver>=525,driver<526 brand=unknown,driver>=525,driver<526 brand=nvidia,driver>=525,driver<526 brand=nvidiartx,driver>=525,driver<526 brand=geforce,driver>=525,driver<526 brand=geforcertx,driver>=525,driver<526 brand=quadro,driver>=525,driver<526 brand=quadrortx,driver>=525,driver<526 brand=titan,driver>=525,driver<526 brand=titanrtx,driver>=525,driver<526', 'NV_LIBCUBLAS_DEV_PACKAGE': 'libcublas-dev-12-2=12.2.5.6-1', 'NV_NVTX_VERSION': '12.2.140-1', 'COLAB_JUPYTER_IP': '172.28.0.12', 'NV_CUDA_CUDART_DEV_VERSION': '12.2.140-1', 'NV_LIBCUSPARSE_VERSION': '12.1.2.141-1', 'COLAB_LANGUAGE_SERVER_PROXY_ROOT_URL': 'http://172.28.0.1:8013/', 'NV_LIBNPP_VERSION': '12.2.1.4-1', 'NCCL_VERSION': '2.19.3-1', 'KMP_LISTEN_PORT': '6000', 'TF_FORCE_GPU_ALLOW_GROWTH': 'true', 'ENV': '/root/.bashrc', 'PWD': '/', 'TBE_EPHEM_CREDS_ADDR': '172.28.0.1:8009', 'COLAB_LANGUAGE_SERVER_PROXY_REQUEST_TIMEOUT': '30s', 'TBE_CREDS_ADDR': '172.28.0.1:8008', 'NV_CUDNN_PACKAGE': 'libcudnn8=8.9.6.50-1+cuda12.2', 'NVIDIA_DRIVER_CAPABILITIES': 'compute,utility', 'COLAB_JUPYTER_TOKEN': '', 'LAST_FORCED_REBUILD': '20240508', 'NV_NVPROF_DEV_PACKAGE': 'cuda-nvprof-12-2=12.2.142-1', 'NV_LIBNPP_PACKAGE': 'libnpp-12-2=12.2.1.4-1', 'NV_LIBNCCL_DEV_PACKAGE_NAME': 'libnccl-dev', 'TCLLIBPATH': '/usr/share/tcltk/tcllib1.20', 'NV_LIBCUBLAS_DEV_VERSION': '12.2.5.6-1', 'NVIDIA_PRODUCT_NAME': 'CUDA', 'COLAB_KERNEL_MANAGER_PROXY_HOST': '172.28.0.12', 'NV_LIBCUBLAS_DEV_PACKAGE_NAME': 'libcublas-dev-12-2', 'NV_CUDA_CUDART_VERSION': '12.2.140-1', 'COLAB_WARMUP_DEFAULTS': '1', 'HOME': '/root', 'LANG': 'en_US.UTF-8', 'COLUMNS': '100', 'CUDA_VERSION': '12.2.2', 'CLOUDSDK_CONFIG': '/content/.config', 'NV_LIBCUBLAS_PACKAGE': 'libcublas-12-2=12.2.5.6-1', 'NV_CUDA_NSIGHT_COMPUTE_DEV_PACKAGE': 'cuda-nsight-compute-12-2=12.2.2-1', 'COLAB_RELEASE_TAG': 'release-colab_20240523-060110_RC00', 'KMP_TARGET_PORT': '9000', 'KMP_EXTRA_ARGS': '--logtostderr --listen_host=172.28.0.12 --target_host=172.28.0.12 --tunnel_background_save_url=https://colab.research.google.com/tun/m/cc48301118ce562b961b3c22d803539adc1e0c19/m-s-2ebxmonkre4x2 --tunnel_background_save_delay=10s --tunnel_periodic_background_save_frequency=30m0s --enable_output_coalescing=true --output_coalescing_required=true', 'NV_LIBNPP_DEV_PACKAGE': 'libnpp-dev-12-2=12.2.1.4-1', 'COLAB_LANGUAGE_SERVER_PROXY_LSP_DIRS': '/datalab/web/pyright/typeshed-fallback/stdlib,/usr/local/lib/python3.10/dist-packages', 'NV_LIBCUBLAS_PACKAGE_NAME': 'libcublas-12-2', 'COLAB_KERNEL_MANAGER_PROXY_PORT': '6000', 'CLOUDSDK_PYTHON': 'python3', 'NV_LIBNPP_DEV_VERSION': '12.2.1.4-1', 'NO_GCE_CHECK': 'False', 'PYTHONPATH': '/env/python', 'NV_LIBCUSPARSE_DEV_VERSION': '12.1.2.141-1', 'LIBRARY_PATH': '/usr/local/cuda/lib64/stubs', 'NV_CUDNN_VERSION': '8.9.6.50', 'SHLVL': '0', 'NV_CUDA_LIB_VERSION': '12.2.2-1', 'COLAB_LANGUAGE_SERVER_PROXY': '/usr/colab/bin/language_service', 'NVARCH': 'x86_64', 'NV_CUDNN_PACKAGE_DEV': 'libcudnn8-dev=8.9.6.50-1+cuda12.2', 'NV_CUDA_COMPAT_PACKAGE': 'cuda-compat-12-2', 'NV_LIBNCCL_PACKAGE': 'libnccl2=2.19.3-1+cuda12.2', 'LD_LIBRARY_PATH': '/usr/local/nvidia/lib:/usr/local/nvidia/lib64', 'COLAB_GPU': '', 'NV_CUDA_NSIGHT_COMPUTE_VERSION': '12.2.2-1', 'GCS_READ_CACHE_BLOCK_SIZE_MB': '16', 'NV_NVPROF_VERSION': '12.2.142-1', 'LC_ALL': 'en_US.UTF-8', 'COLAB_FILE_HANDLER_ADDR': 'localhost:3453', 'PATH': '/opt/bin:/usr/local/nvidia/bin:/usr/local/cuda/bin:/usr/local/sbin:/usr/local/bin:/usr/sbin:/usr/bin:/sbin:/bin:/tools/node/bin:/tools/google-cloud-sdk/bin', 'NV_LIBNCCL_PACKAGE_NAME': 'libnccl2', 'COLAB_DEBUG_ADAPTER_MUX_PATH': '/usr/local/bin/dap_multiplexer', 'NV_LIBNCCL_PACKAGE_VERSION': '2.19.3-1', 'PYTHONWARNINGS': 'ignore:::pip._internal.cli.base_command', 'DEBIAN_FRONTEND': 'noninteractive', 'COLAB_BACKEND_VERSION': 'next', 'COLAB_CUSTOMIZE_FOR_VM_TYPE': '1', 'OLDPWD': '/', 'JPY_PARENT_PID': '81', 'TERM': 'xterm-color', 'CLICOLOR': '1', 'PAGER': 'cat', 'GIT_PAGER': 'cat', 'MPLBACKEND': 'module://ipykernel.pylab.backend_inline', 'ENABLE_DIRECTORYPREFETCHER': '1', 'USE_AUTH_EPHEM': '1', 'PYDEVD_USE_FRAME_EVAL': 'NO'})\n"
          ]
        }
      ]
    },
    {
      "cell_type": "code",
      "source": [
        "# Returns `None` if the key doesn't exist\n",
        "print(os.environ.get('KEY_THAT_DOES_NOT_EXIST'))\n",
        "\n",
        "# Returns `default_value` if the key doesn't exist\n",
        "print(os.environ.get('KEY_THAT_DOES_NOT_EXIST', 'default_value'))\n",
        "print(os.environ.get('KEY_THAT_MIGHT_EXIST', '2dd7bb8712654787b695ccacc92274dc'))\n",
        "print(os.getenv('KEY_THAT_MIGHT_EXIST', '2dd7bb8712654787b695ccacc92274dc'))"
      ],
      "metadata": {
        "colab": {
          "base_uri": "https://localhost:8080/"
        },
        "id": "4e0rREAXs94b",
        "outputId": "a9ffb308-bdf9-4c4a-882e-35ad557029c7"
      },
      "execution_count": 27,
      "outputs": [
        {
          "output_type": "stream",
          "name": "stdout",
          "text": [
            "None\n",
            "default_value\n",
            "2dd7bb8712654787b695ccacc92274dc\n",
            "2dd7bb8712654787b695ccacc92274dc\n"
          ]
        }
      ]
    },
    {
      "cell_type": "code",
      "source": [
        "import os\n",
        "for key, value in os.environ.items():\n",
        "    print(f'{key}: {value}')"
      ],
      "metadata": {
        "colab": {
          "base_uri": "https://localhost:8080/"
        },
        "id": "5HHwiMtPtfhE",
        "outputId": "ae5e320d-d7f5-4c4c-fb64-5ad15ce21fd6"
      },
      "execution_count": 29,
      "outputs": [
        {
          "output_type": "stream",
          "name": "stdout",
          "text": [
            "SHELL: /bin/bash\n",
            "NV_LIBCUBLAS_VERSION: 12.2.5.6-1\n",
            "NVIDIA_VISIBLE_DEVICES: all\n",
            "COLAB_JUPYTER_TRANSPORT: ipc\n",
            "NV_NVML_DEV_VERSION: 12.2.140-1\n",
            "NV_CUDNN_PACKAGE_NAME: libcudnn8\n",
            "CGROUP_MEMORY_EVENTS: /sys/fs/cgroup/memory.events /var/colab/cgroup/jupyter-children/memory.events\n",
            "NV_LIBNCCL_DEV_PACKAGE: libnccl-dev=2.19.3-1+cuda12.2\n",
            "NV_LIBNCCL_DEV_PACKAGE_VERSION: 2.19.3-1\n",
            "VM_GCE_METADATA_HOST: 169.254.169.253\n",
            "HOSTNAME: 8abede7e910b\n",
            "LANGUAGE: en_US\n",
            "TBE_RUNTIME_ADDR: 172.28.0.1:8011\n",
            "COLAB_TPU_1VM: \n",
            "GCE_METADATA_TIMEOUT: 3\n",
            "NVIDIA_REQUIRE_CUDA: cuda>=12.2 brand=tesla,driver>=470,driver<471 brand=unknown,driver>=470,driver<471 brand=nvidia,driver>=470,driver<471 brand=nvidiartx,driver>=470,driver<471 brand=geforce,driver>=470,driver<471 brand=geforcertx,driver>=470,driver<471 brand=quadro,driver>=470,driver<471 brand=quadrortx,driver>=470,driver<471 brand=titan,driver>=470,driver<471 brand=titanrtx,driver>=470,driver<471 brand=tesla,driver>=525,driver<526 brand=unknown,driver>=525,driver<526 brand=nvidia,driver>=525,driver<526 brand=nvidiartx,driver>=525,driver<526 brand=geforce,driver>=525,driver<526 brand=geforcertx,driver>=525,driver<526 brand=quadro,driver>=525,driver<526 brand=quadrortx,driver>=525,driver<526 brand=titan,driver>=525,driver<526 brand=titanrtx,driver>=525,driver<526\n",
            "NV_LIBCUBLAS_DEV_PACKAGE: libcublas-dev-12-2=12.2.5.6-1\n",
            "NV_NVTX_VERSION: 12.2.140-1\n",
            "COLAB_JUPYTER_IP: 172.28.0.12\n",
            "NV_CUDA_CUDART_DEV_VERSION: 12.2.140-1\n",
            "NV_LIBCUSPARSE_VERSION: 12.1.2.141-1\n",
            "COLAB_LANGUAGE_SERVER_PROXY_ROOT_URL: http://172.28.0.1:8013/\n",
            "NV_LIBNPP_VERSION: 12.2.1.4-1\n",
            "NCCL_VERSION: 2.19.3-1\n",
            "KMP_LISTEN_PORT: 6000\n",
            "TF_FORCE_GPU_ALLOW_GROWTH: true\n",
            "ENV: /root/.bashrc\n",
            "PWD: /\n",
            "TBE_EPHEM_CREDS_ADDR: 172.28.0.1:8009\n",
            "COLAB_LANGUAGE_SERVER_PROXY_REQUEST_TIMEOUT: 30s\n",
            "TBE_CREDS_ADDR: 172.28.0.1:8008\n",
            "NV_CUDNN_PACKAGE: libcudnn8=8.9.6.50-1+cuda12.2\n",
            "NVIDIA_DRIVER_CAPABILITIES: compute,utility\n",
            "COLAB_JUPYTER_TOKEN: \n",
            "LAST_FORCED_REBUILD: 20240508\n",
            "NV_NVPROF_DEV_PACKAGE: cuda-nvprof-12-2=12.2.142-1\n",
            "NV_LIBNPP_PACKAGE: libnpp-12-2=12.2.1.4-1\n",
            "NV_LIBNCCL_DEV_PACKAGE_NAME: libnccl-dev\n",
            "TCLLIBPATH: /usr/share/tcltk/tcllib1.20\n",
            "NV_LIBCUBLAS_DEV_VERSION: 12.2.5.6-1\n",
            "NVIDIA_PRODUCT_NAME: CUDA\n",
            "COLAB_KERNEL_MANAGER_PROXY_HOST: 172.28.0.12\n",
            "NV_LIBCUBLAS_DEV_PACKAGE_NAME: libcublas-dev-12-2\n",
            "NV_CUDA_CUDART_VERSION: 12.2.140-1\n",
            "COLAB_WARMUP_DEFAULTS: 1\n",
            "HOME: /root\n",
            "LANG: en_US.UTF-8\n",
            "COLUMNS: 100\n",
            "CUDA_VERSION: 12.2.2\n",
            "CLOUDSDK_CONFIG: /content/.config\n",
            "NV_LIBCUBLAS_PACKAGE: libcublas-12-2=12.2.5.6-1\n",
            "NV_CUDA_NSIGHT_COMPUTE_DEV_PACKAGE: cuda-nsight-compute-12-2=12.2.2-1\n",
            "COLAB_RELEASE_TAG: release-colab_20240523-060110_RC00\n",
            "KMP_TARGET_PORT: 9000\n",
            "KMP_EXTRA_ARGS: --logtostderr --listen_host=172.28.0.12 --target_host=172.28.0.12 --tunnel_background_save_url=https://colab.research.google.com/tun/m/cc48301118ce562b961b3c22d803539adc1e0c19/m-s-2ebxmonkre4x2 --tunnel_background_save_delay=10s --tunnel_periodic_background_save_frequency=30m0s --enable_output_coalescing=true --output_coalescing_required=true\n",
            "NV_LIBNPP_DEV_PACKAGE: libnpp-dev-12-2=12.2.1.4-1\n",
            "COLAB_LANGUAGE_SERVER_PROXY_LSP_DIRS: /datalab/web/pyright/typeshed-fallback/stdlib,/usr/local/lib/python3.10/dist-packages\n",
            "NV_LIBCUBLAS_PACKAGE_NAME: libcublas-12-2\n",
            "COLAB_KERNEL_MANAGER_PROXY_PORT: 6000\n",
            "CLOUDSDK_PYTHON: python3\n",
            "NV_LIBNPP_DEV_VERSION: 12.2.1.4-1\n",
            "NO_GCE_CHECK: False\n",
            "PYTHONPATH: /env/python\n",
            "NV_LIBCUSPARSE_DEV_VERSION: 12.1.2.141-1\n",
            "LIBRARY_PATH: /usr/local/cuda/lib64/stubs\n",
            "NV_CUDNN_VERSION: 8.9.6.50\n",
            "SHLVL: 0\n",
            "NV_CUDA_LIB_VERSION: 12.2.2-1\n",
            "COLAB_LANGUAGE_SERVER_PROXY: /usr/colab/bin/language_service\n",
            "NVARCH: x86_64\n",
            "NV_CUDNN_PACKAGE_DEV: libcudnn8-dev=8.9.6.50-1+cuda12.2\n",
            "NV_CUDA_COMPAT_PACKAGE: cuda-compat-12-2\n",
            "NV_LIBNCCL_PACKAGE: libnccl2=2.19.3-1+cuda12.2\n",
            "LD_LIBRARY_PATH: /usr/local/nvidia/lib:/usr/local/nvidia/lib64\n",
            "COLAB_GPU: \n",
            "NV_CUDA_NSIGHT_COMPUTE_VERSION: 12.2.2-1\n",
            "GCS_READ_CACHE_BLOCK_SIZE_MB: 16\n",
            "NV_NVPROF_VERSION: 12.2.142-1\n",
            "LC_ALL: en_US.UTF-8\n",
            "COLAB_FILE_HANDLER_ADDR: localhost:3453\n",
            "PATH: /opt/bin:/usr/local/nvidia/bin:/usr/local/cuda/bin:/usr/local/sbin:/usr/local/bin:/usr/sbin:/usr/bin:/sbin:/bin:/tools/node/bin:/tools/google-cloud-sdk/bin\n",
            "NV_LIBNCCL_PACKAGE_NAME: libnccl2\n",
            "COLAB_DEBUG_ADAPTER_MUX_PATH: /usr/local/bin/dap_multiplexer\n",
            "NV_LIBNCCL_PACKAGE_VERSION: 2.19.3-1\n",
            "PYTHONWARNINGS: ignore:::pip._internal.cli.base_command\n",
            "DEBIAN_FRONTEND: noninteractive\n",
            "COLAB_BACKEND_VERSION: next\n",
            "COLAB_CUSTOMIZE_FOR_VM_TYPE: 1\n",
            "OLDPWD: /\n",
            "JPY_PARENT_PID: 81\n",
            "TERM: xterm-color\n",
            "CLICOLOR: 1\n",
            "PAGER: cat\n",
            "GIT_PAGER: cat\n",
            "MPLBACKEND: module://ipykernel.pylab.backend_inline\n",
            "ENABLE_DIRECTORYPREFETCHER: 1\n",
            "USE_AUTH_EPHEM: 1\n",
            "PYDEVD_USE_FRAME_EVAL: NO\n"
          ]
        }
      ]
    },
    {
      "cell_type": "code",
      "source": [
        "os.environ['HOME'] = '/new/1'"
      ],
      "metadata": {
        "id": "O-uQOY9atpx_"
      },
      "execution_count": 37,
      "outputs": []
    },
    {
      "cell_type": "code",
      "source": [
        "# Import the sys module\n",
        "import sys"
      ],
      "metadata": {
        "id": "3BWxWIobt4i1"
      },
      "execution_count": 39,
      "outputs": []
    },
    {
      "cell_type": "markdown",
      "source": [
        "{\n",
        "    \"authorization\": {\n",
        "        \"action\": \"Microsoft.CognitiveServices/accounts/listKeys/action\",\n",
        "        \"scope\": \"/subscriptions/4236eaa8-6ce2-4fac-806f-8834872faf94/resourceGroups/MS631_T6/providers/Microsoft.CognitiveServices/accounts/T8LANGUAGESERVICE1\"\n",
        "    },\n",
        "    \"caller\": \"sshahin04559@ucumberlands.edu\",\n",
        "    \"channels\": \"Operation\",\n",
        "    \"claims\": {\n",
        "        \"aud\": \"https://management.core.windows.net/\",\n",
        "        \"iss\": \"https://sts.windows.net/0fd1fc08-f43d-4c1b-bd0f-17a9128a60a4/\",\n",
        "        \"iat\": \"1716751335\",\n",
        "        \"nbf\": \"1716751335\",\n",
        "        \"exp\": \"1716756408\",\n",
        "        \"http://schemas.microsoft.com/claims/authnclassreference\": \"1\",\n",
        "        \"aio\": \"AVQAq/8WAAAAevE9IfcoiloZ5QLsmLRNsvEpGWurE9M65ZVzC7pXdu5EnrYm+X+CDwYheiYDWVn/34Kywvd1wvL7d8qGvJ54TUzZk6T9A12198WmzoHZ8aQ=\",\n",
        "        \"http://schemas.microsoft.com/claims/authnmethodsreferences\": \"wia,mfa\",\n",
        "        \"appid\": \"c44b4083-3bb0-49c1-b47d-974e53cbdf3c\",\n",
        "        \"appidacr\": \"2\",\n",
        "        \"http://schemas.xmlsoap.org/ws/2005/05/identity/claims/surname\": \"Shahin\",\n",
        "        \"http://schemas.xmlsoap.org/ws/2005/05/identity/claims/givenname\": \"Sally Samy Aly Ibrahim\",\n",
        "        \"groups\": \"efa62144-2951-4ea4-9256-3c485ada50e5,3f788c72-16a2-43ba-a7ee-87377286d859,08f0f4a1-5e44-4ae1-be57-193bbb591eca,3dab8bc3-6cef-4bb7-b97f-9cf1c1a754a8,da5874db-c15d-4fdf-ba52-403078577030\",\n",
        "        \"idtyp\": \"user\",\n",
        "        \"ipaddr\": \"2603:7000:a702:b5b:1968:4d36:53dd:b5d0\",\n",
        "        \"name\": \"Sally Samy Aly Ibrahim Shahin\",\n",
        "        \"http://schemas.microsoft.com/identity/claims/objectidentifier\": \"e84d25b2-fd45-4c13-b998-4b82d55c720c\",\n",
        "        \"onprem_sid\": \"S-1-5-21-931475372-4060910525-838891566-144328\",\n",
        "        \"puid\": \"1003200226A695AC\",\n",
        "        \"rh\": \"0.ATYACPzRDz30G0y9DxepEopgpEZIf3kAutdPukPawfj2MBM2AK8.\",\n",
        "        \"http://schemas.microsoft.com/identity/claims/scope\": \"user_impersonation\",\n",
        "        \"http://schemas.xmlsoap.org/ws/2005/05/identity/claims/nameidentifier\": \"_E9Bd6Ewx-YTQfkTitu7jiUjgt7KJX2XyHTtl5ZOMyg\",\n",
        "        \"http://schemas.microsoft.com/identity/claims/tenantid\": \"0fd1fc08-f43d-4c1b-bd0f-17a9128a60a4\",\n",
        "        \"http://schemas.xmlsoap.org/ws/2005/05/identity/claims/name\": \"sshahin04559@ucumberlands.edu\",\n",
        "        \"http://schemas.xmlsoap.org/ws/2005/05/identity/claims/upn\": \"sshahin04559@ucumberlands.edu\",\n",
        "        \"uti\": \"YARggZTQz0ujed-PYjaZAA\",\n",
        "        \"ver\": \"1.0\",\n",
        "        \"xms_tcdt\": \"1367868814\"\n",
        "    },\n",
        "    \"correlationId\": \"8dc0fc83-1683-4766-a701-7d86aa70b7dc\",\n",
        "    \"description\": \"\",\n",
        "    \"eventDataId\": \"4c905aed-cd4a-46d0-8c35-fe673c518f77\",\n",
        "    \"eventName\": {\n",
        "        \"value\": \"EndRequest\",\n",
        "        \"localizedValue\": \"End request\"\n",
        "    },\n",
        "    \"category\": {\n",
        "        \"value\": \"Administrative\",\n",
        "        \"localizedValue\": \"Administrative\"\n",
        "    },\n",
        "    \"eventTimestamp\": \"2024-05-26T19:27:32.964943Z\",\n",
        "    \"id\": \"/subscriptions/4236eaa8-6ce2-4fac-806f-8834872faf94/resourceGroups/MS631_T6/providers/Microsoft.CognitiveServices/accounts/T8LANGUAGESERVICE1/events/4c905aed-cd4a-46d0-8c35-fe673c518f77/ticks/638523484529649430\",\n",
        "    \"level\": \"Informational\",\n",
        "    \"operationId\": \"8dc0fc83-1683-4766-a701-7d86aa70b7dc\",\n",
        "    \"operationName\": {\n",
        "        \"value\": \"Microsoft.CognitiveServices/accounts/listKeys/action\",\n",
        "        \"localizedValue\": \"List Keys\"\n",
        "    },\n",
        "    \"resourceGroupName\": \"MS631_T6\",\n",
        "    \"resourceProviderName\": {\n",
        "        \"value\": \"Microsoft.CognitiveServices\",\n",
        "        \"localizedValue\": \"Microsoft.CognitiveServices\"\n",
        "    },\n",
        "    \"resourceType\": {\n",
        "        \"value\": \"Microsoft.CognitiveServices/accounts\",\n",
        "        \"localizedValue\": \"Microsoft.CognitiveServices/accounts\"\n",
        "    },\n",
        "    \"resourceId\": \"/subscriptions/4236eaa8-6ce2-4fac-806f-8834872faf94/resourceGroups/MS631_T6/providers/Microsoft.CognitiveServices/accounts/T8LANGUAGESERVICE1\",\n",
        "    \"status\": {\n",
        "        \"value\": \"Succeeded\",\n",
        "        \"localizedValue\": \"Succeeded\"\n",
        "    },\n",
        "    \"subStatus\": {\n",
        "        \"value\": \"OK\",\n",
        "        \"localizedValue\": \"OK (HTTP Status Code: 200)\"\n",
        "    },\n",
        "    \"submissionTimestamp\": \"2024-05-26T19:31:13Z\",\n",
        "    \"subscriptionId\": \"4236eaa8-6ce2-4fac-806f-8834872faf94\",\n",
        "    \"tenantId\": \"0fd1fc08-f43d-4c1b-bd0f-17a9128a60a4\",\n",
        "    \"properties\": {\n",
        "        \"statusCode\": \"OK\",\n",
        "        \"serviceRequestId\": null,\n",
        "        \"eventCategory\": \"Administrative\",\n",
        "        \"entity\": \"/subscriptions/4236eaa8-6ce2-4fac-806f-8834872faf94/resourceGroups/MS631_T6/providers/Microsoft.CognitiveServices/accounts/T8LANGUAGESERVICE1\",\n",
        "        \"message\": \"Microsoft.CognitiveServices/accounts/listKeys/action\",\n",
        "        \"hierarchy\": \"0fd1fc08-f43d-4c1b-bd0f-17a9128a60a4/4236eaa8-6ce2-4fac-806f-8834872faf94\"\n",
        "    },\n",
        "    \"relatedEvents\": []\n",
        "}"
      ],
      "metadata": {
        "id": "HSBJp6ndr8Z5"
      }
    }
  ]
}